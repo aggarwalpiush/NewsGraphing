{
 "cells": [
  {
   "cell_type": "code",
   "execution_count": 1,
   "metadata": {
    "scrolled": true
   },
   "outputs": [
    {
     "name": "stderr",
     "output_type": "stream",
     "text": [
      "\u001b[1m\u001b[33mWARNING: \u001b[39m\u001b[22m\u001b[33mNo working GUI backend found for matplotlib\u001b[39m\n",
      "WARNING: Method definition ==(Base.Nullable{S}, Base.Nullable{T}) in module Base at nullable.jl:238 overwritten in module NullableArrays at /home/nknauf3/.julia/v0.6/NullableArrays/src/operators.jl:128.\n",
      "WARNING: Method definition count() in module IterTools at deprecated.jl:56 overwritten in module Iterators at deprecated.jl:56.\n",
      "WARNING: Method definition count(Number) in module IterTools at deprecated.jl:56 overwritten in module Iterators at deprecated.jl:56.\n",
      "WARNING: Method definition count(Number, Number) in module IterTools at deprecated.jl:56 overwritten in module Iterators at deprecated.jl:56.\n"
     ]
    },
    {
     "data": {
      "text/plain": [
       "Psis (generic function with 1 method)"
      ]
     },
     "execution_count": 1,
     "metadata": {},
     "output_type": "execute_result"
    }
   ],
   "source": [
    "using GraphPlot\n",
    "using Plots\n",
    "pyplot()\n",
    "include(\"loadbuild.jl\")\n",
    "include(\"graphing.jl\")\n",
    "include(\"beliefprop.jl\")"
   ]
  },
  {
   "cell_type": "code",
   "execution_count": 2,
   "metadata": {},
   "outputs": [
    {
     "data": {
      "text/html": [
       "<table class=\"data-frame\"><thead><tr><th></th><th>sdom</th><th>ddom</th><th>link</th></tr></thead><tbody><tr><th>1</th><td>Nullable{WeakRefString{UInt8}}(\"outlookindia.com\")</td><td>Nullable{WeakRefString{UInt8}}(\"speakoutawards.com\")</td><td>Nullable{WeakRefString{UInt8}}(\"a\")</td></tr><tr><th>2</th><td>Nullable{WeakRefString{UInt8}}(\"outlookindia.com\")</td><td>Nullable{WeakRefString{UInt8}}(\"outlookbusiness.com\")</td><td>Nullable{WeakRefString{UInt8}}(\"a\")</td></tr><tr><th>3</th><td>Nullable{WeakRefString{UInt8}}(\"outlookindia.com\")</td><td>Nullable{WeakRefString{UInt8}}(\"subscription.outlookindia.com\")</td><td>Nullable{WeakRefString{UInt8}}(\"a\")</td></tr><tr><th>4</th><td>Nullable{WeakRefString{UInt8}}(\"outlookindia.com\")</td><td>Nullable{WeakRefString{UInt8}}(\"facebook.com\")</td><td>Nullable{WeakRefString{UInt8}}(\"a\")</td></tr><tr><th>5</th><td>Nullable{WeakRefString{UInt8}}(\"outlookindia.com\")</td><td>Nullable{WeakRefString{UInt8}}(\"twitter.com\")</td><td>Nullable{WeakRefString{UInt8}}(\"a\")</td></tr><tr><th>6</th><td>Nullable{WeakRefString{UInt8}}(\"outlookindia.com\")</td><td>Nullable{WeakRefString{UInt8}}(\"instagram.com\")</td><td>Nullable{WeakRefString{UInt8}}(\"a\")</td></tr><tr><th>7</th><td>Nullable{WeakRefString{UInt8}}(\"outlookindia.com\")</td><td>Nullable{WeakRefString{UInt8}}(\"youtube.com\")</td><td>Nullable{WeakRefString{UInt8}}(\"a\")</td></tr><tr><th>8</th><td>Nullable{WeakRefString{UInt8}}(\"outlookindia.com\")</td><td>Nullable{WeakRefString{UInt8}}(\"subscription.outlookindia.com\")</td><td>Nullable{WeakRefString{UInt8}}(\"a\")</td></tr><tr><th>9</th><td>Nullable{WeakRefString{UInt8}}(\"outlookindia.com\")</td><td>Nullable{WeakRefString{UInt8}}(\"subscription.outlookindia.com\")</td><td>Nullable{WeakRefString{UInt8}}(\"a\")</td></tr><tr><th>10</th><td>Nullable{WeakRefString{UInt8}}(\"outlookindia.com\")</td><td>Nullable{WeakRefString{UInt8}}(\"osm-awards.com\")</td><td>Nullable{WeakRefString{UInt8}}(\"a\")</td></tr><tr><th>11</th><td>Nullable{WeakRefString{UInt8}}(\"outlookindia.com\")</td><td>Nullable{WeakRefString{UInt8}}(\"outlookmoney.com\")</td><td>Nullable{WeakRefString{UInt8}}(\"a\")</td></tr><tr><th>12</th><td>Nullable{WeakRefString{UInt8}}(\"outlookindia.com\")</td><td>Nullable{WeakRefString{UInt8}}(\"outlookmoney.com\")</td><td>Nullable{WeakRefString{UInt8}}(\"a\")</td></tr><tr><th>13</th><td>Nullable{WeakRefString{UInt8}}(\"outlookindia.com\")</td><td>Nullable{WeakRefString{UInt8}}(\"outlookmoney.com\")</td><td>Nullable{WeakRefString{UInt8}}(\"a\")</td></tr><tr><th>14</th><td>Nullable{WeakRefString{UInt8}}(\"outlookindia.com\")</td><td>Nullable{WeakRefString{UInt8}}(\"outlookmoney.com\")</td><td>Nullable{WeakRefString{UInt8}}(\"a\")</td></tr><tr><th>15</th><td>Nullable{WeakRefString{UInt8}}(\"outlookindia.com\")</td><td>Nullable{WeakRefString{UInt8}}(\"outlookmoney.com\")</td><td>Nullable{WeakRefString{UInt8}}(\"a\")</td></tr><tr><th>16</th><td>Nullable{WeakRefString{UInt8}}(\"outlookindia.com\")</td><td>Nullable{WeakRefString{UInt8}}(\"outlookmoney.com\")</td><td>Nullable{WeakRefString{UInt8}}(\"a\")</td></tr><tr><th>17</th><td>Nullable{WeakRefString{UInt8}}(\"outlookindia.com\")</td><td>Nullable{WeakRefString{UInt8}}(\"outlookbusiness.com\")</td><td>Nullable{WeakRefString{UInt8}}(\"a\")</td></tr><tr><th>18</th><td>Nullable{WeakRefString{UInt8}}(\"outlookindia.com\")</td><td>Nullable{WeakRefString{UInt8}}(\"outlookbusiness.com\")</td><td>Nullable{WeakRefString{UInt8}}(\"a\")</td></tr><tr><th>19</th><td>Nullable{WeakRefString{UInt8}}(\"outlookindia.com\")</td><td>Nullable{WeakRefString{UInt8}}(\"outlookbusiness.com\")</td><td>Nullable{WeakRefString{UInt8}}(\"a\")</td></tr><tr><th>20</th><td>Nullable{WeakRefString{UInt8}}(\"outlookindia.com\")</td><td>Nullable{WeakRefString{UInt8}}(\"outlookbusiness.com\")</td><td>Nullable{WeakRefString{UInt8}}(\"a\")</td></tr><tr><th>21</th><td>Nullable{WeakRefString{UInt8}}(\"outlookindia.com\")</td><td>Nullable{WeakRefString{UInt8}}(\"outlookbusiness.com\")</td><td>Nullable{WeakRefString{UInt8}}(\"a\")</td></tr><tr><th>22</th><td>Nullable{WeakRefString{UInt8}}(\"outlookindia.com\")</td><td>Nullable{WeakRefString{UInt8}}(\"outlookbusiness.com\")</td><td>Nullable{WeakRefString{UInt8}}(\"a\")</td></tr><tr><th>23</th><td>Nullable{WeakRefString{UInt8}}(\"outlookindia.com\")</td><td>Nullable{WeakRefString{UInt8}}(\"outlookbusiness.com\")</td><td>Nullable{WeakRefString{UInt8}}(\"a\")</td></tr><tr><th>24</th><td>Nullable{WeakRefString{UInt8}}(\"outlookindia.com\")</td><td>Nullable{WeakRefString{UInt8}}(\"outlookbusiness.com\")</td><td>Nullable{WeakRefString{UInt8}}(\"a\")</td></tr><tr><th>25</th><td>Nullable{WeakRefString{UInt8}}(\"outlookindia.com\")</td><td>Nullable{WeakRefString{UInt8}}(\"facebook.com\")</td><td>Nullable{WeakRefString{UInt8}}(\"a\")</td></tr><tr><th>26</th><td>Nullable{WeakRefString{UInt8}}(\"outlookindia.com\")</td><td>Nullable{WeakRefString{UInt8}}(\"twitter.com\")</td><td>Nullable{WeakRefString{UInt8}}(\"a\")</td></tr><tr><th>27</th><td>Nullable{WeakRefString{UInt8}}(\"outlookindia.com\")</td><td>Nullable{WeakRefString{UInt8}}(\"instagram.com\")</td><td>Nullable{WeakRefString{UInt8}}(\"a\")</td></tr><tr><th>28</th><td>Nullable{WeakRefString{UInt8}}(\"outlookindia.com\")</td><td>Nullable{WeakRefString{UInt8}}(\"youtube.com\")</td><td>Nullable{WeakRefString{UInt8}}(\"a\")</td></tr><tr><th>29</th><td>Nullable{WeakRefString{UInt8}}(\"outlookindia.com\")</td><td>Nullable{WeakRefString{UInt8}}(\"fonts.googleapis.com\")</td><td>Nullable{WeakRefString{UInt8}}(\"link\")</td></tr><tr><th>30</th><td>Nullable{WeakRefString{UInt8}}(\"outlookindia.com\")</td><td>Nullable{WeakRefString{UInt8}}(\"cdnjs.cloudflare.com\")</td><td>Nullable{WeakRefString{UInt8}}(\"link\")</td></tr><tr><th>&vellip;</th><td>&vellip;</td><td>&vellip;</td><td>&vellip;</td></tr></tbody></table>"
      ],
      "text/plain": [
       "34886559×3 DataFrames.DataFrame\n",
       "│ Row      │ sdom               │ ddom                            │ link     │\n",
       "├──────────┼────────────────────┼─────────────────────────────────┼──────────┤\n",
       "│ 1        │ \"outlookindia.com\" │ \"speakoutawards.com\"            │ \"a\"      │\n",
       "│ 2        │ \"outlookindia.com\" │ \"outlookbusiness.com\"           │ \"a\"      │\n",
       "│ 3        │ \"outlookindia.com\" │ \"subscription.outlookindia.com\" │ \"a\"      │\n",
       "│ 4        │ \"outlookindia.com\" │ \"facebook.com\"                  │ \"a\"      │\n",
       "│ 5        │ \"outlookindia.com\" │ \"twitter.com\"                   │ \"a\"      │\n",
       "│ 6        │ \"outlookindia.com\" │ \"instagram.com\"                 │ \"a\"      │\n",
       "│ 7        │ \"outlookindia.com\" │ \"youtube.com\"                   │ \"a\"      │\n",
       "│ 8        │ \"outlookindia.com\" │ \"subscription.outlookindia.com\" │ \"a\"      │\n",
       "│ 9        │ \"outlookindia.com\" │ \"subscription.outlookindia.com\" │ \"a\"      │\n",
       "│ 10       │ \"outlookindia.com\" │ \"osm-awards.com\"                │ \"a\"      │\n",
       "│ 11       │ \"outlookindia.com\" │ \"outlookmoney.com\"              │ \"a\"      │\n",
       "⋮\n",
       "│ 34886548 │ \"923thedock.com\"   │ \"larchecom.com\"                 │ \"a\"      │\n",
       "│ 34886549 │ \"923thedock.com\"   │ \"netgainseo.com\"                │ \"a\"      │\n",
       "│ 34886550 │ \"923thedock.com\"   │ \"larchecom.com\"                 │ \"a\"      │\n",
       "│ 34886551 │ \"923thedock.com\"   │ \"larchedigitalmedia.com\"        │ \"a\"      │\n",
       "│ 34886552 │ \"923thedock.com\"   │ \"netgainseo.com\"                │ \"a\"      │\n",
       "│ 34886553 │ \"923thedock.com\"   │ \"1041thedock.com\"               │ \"link\"   │\n",
       "│ 34886554 │ \"923thedock.com\"   │ \"cdnjs.cloudflare.com\"          │ \"link\"   │\n",
       "│ 34886555 │ \"923thedock.com\"   │ \"ajax.googleapis.com\"           │ \"link\"   │\n",
       "│ 34886556 │ \"923thedock.com\"   │ \"ajax.googleapis.com\"           │ \"script\" │\n",
       "│ 34886557 │ \"923thedock.com\"   │ \"ajax.googleapis.com\"           │ \"script\" │\n",
       "│ 34886558 │ \"923thedock.com\"   │ \"static.freeskreen.com\"         │ \"script\" │\n",
       "│ 34886559 │ \"923thedock.com\"   │ \"cdnjs.cloudflare.com\"          │ \"script\" │"
      ]
     },
     "execution_count": 2,
     "metadata": {},
     "output_type": "execute_result"
    }
   ],
   "source": [
    "save = loadSave()"
   ]
  },
  {
   "cell_type": "code",
   "execution_count": 3,
   "metadata": {},
   "outputs": [
    {
     "data": {
      "text/plain": [
       "(1474×5 DataFrames.DataFrame\n",
       "│ Row  │ x1                              │ x2   │ x3          │ x4  │\n",
       "├──────┼─────────────────────────────────┼──────┼─────────────┼─────┤\n",
       "│ 1    │ \"Anthropocene Magazine\"         │ \"C\"  │ \"VERY HIGH\" │ NA  │\n",
       "│ 2    │ \"Raw Progressive\"               │ \"L\"  │ \"MIXED\"     │ NA  │\n",
       "│ 3    │ \"The Record (NJ)\"               │ \"LC\" │ \"HIGH\"      │ NA  │\n",
       "│ 4    │ \"The Automatic Earth\"           │ \"LC\" │ \"HIGH\"      │ NA  │\n",
       "│ 5    │ \"Al Jazeera\"                    │ \"LC\" │ \"HIGH\"      │ NA  │\n",
       "│ 6    │ \"Lexington Institute\"           │ \"RC\" │ \"HIGH\"      │ NA  │\n",
       "│ 7    │ \"TakePart\"                      │ \"L\"  │ \"HIGH\"      │ NA  │\n",
       "│ 8    │ \"Broken World News\"             │ NA   │ NA          │ \"S\" │\n",
       "│ 9    │ \"Townhall\"                      │ \"R\"  │ \"HIGH\"      │ NA  │\n",
       "│ 10   │ \"Left Action\"                   │ \"L\"  │ \"HIGH\"      │ NA  │\n",
       "│ 11   │ \"Western Journalism\"            │ \"R\"  │ \"MIXED\"     │ NA  │\n",
       "⋮\n",
       "│ 1463 │ \"Right Smarts\"                  │ NA   │ NA          │ \"F\" │\n",
       "│ 1464 │ \"The Gateway Pundit\"            │ NA   │ NA          │ \"F\" │\n",
       "│ 1465 │ \"Conservative Spirit\"           │ NA   │ NA          │ \"F\" │\n",
       "│ 1466 │ \"Age of Shitlords\"              │ NA   │ NA          │ \"F\" │\n",
       "│ 1467 │ \"USA News for You\"              │ NA   │ NA          │ \"F\" │\n",
       "│ 1468 │ \"Adobo Chronicles\"              │ NA   │ NA          │ \"S\" │\n",
       "│ 1469 │ \"Truth Monitor\"                 │ NA   │ NA          │ \"F\" │\n",
       "│ 1470 │ \"The American Interest\"         │ \"RC\" │ \"HIGH\"      │ NA  │\n",
       "│ 1471 │ \"Dutch Daily News\"              │ \"LC\" │ \"HIGH\"      │ NA  │\n",
       "│ 1472 │ \"FedsAlert\"                     │ NA   │ NA          │ \"S\" │\n",
       "│ 1473 │ \"Sign of the Times\"             │ NA   │ \"MIXED\"     │ \"X\" │\n",
       "│ 1474 │ \"Better Government Association\" │ \"C\"  │ \"HIGH\"      │ NA  │\n",
       "\n",
       "│ Row  │ x5                          │\n",
       "├──────┼─────────────────────────────┤\n",
       "│ 1    │ \"anthropocenemagazine.org\"  │\n",
       "│ 2    │ \"rawprogressive.com\"        │\n",
       "│ 3    │ \"northjersey.com\"           │\n",
       "│ 4    │ \"theautomaticearth.com\"     │\n",
       "│ 5    │ \"aljazeera.com\"             │\n",
       "│ 6    │ \"lexingtoninstitute.org\"    │\n",
       "│ 7    │ \"takepart.com\"              │\n",
       "│ 8    │ \"brokenworldnews.com\"       │\n",
       "│ 9    │ \"townhall.com\"              │\n",
       "│ 10   │ \"leftaction.com\"            │\n",
       "│ 11   │ \"westernjournalism.com\"     │\n",
       "⋮\n",
       "│ 1463 │ \"rightsmarts.com\"           │\n",
       "│ 1464 │ \"thegatewaypundit.com\"      │\n",
       "│ 1465 │ \"conservativespirit.com\"    │\n",
       "│ 1466 │ \"ageofshitlords.com\"        │\n",
       "│ 1467 │ \"usanews4u.us\"              │\n",
       "│ 1468 │ \"adobochronicles.com\"       │\n",
       "│ 1469 │ \"truthmonitor.com\"          │\n",
       "│ 1470 │ \"the-american-interest.com\" │\n",
       "│ 1471 │ \"dutchdailynews.com\"        │\n",
       "│ 1472 │ \"fedsalert.com\"             │\n",
       "│ 1473 │ \"sott.net\"                  │\n",
       "│ 1474 │ \"bettergov.org\"             │, String[\"anthropocenemagazine.org\", \"rawprogressive.com\", \"northjersey.com\", \"theautomaticearth.com\", \"aljazeera.com\", \"lexingtoninstitute.org\", \"takepart.com\", \"brokenworldnews.com\", \"townhall.com\", \"leftaction.com\"  …  \"conservativespirit.com\", \"ageofshitlords.com\", \"usanews4u.us\", \"adobochronicles.com\", \"truthmonitor.com\", \"the-american-interest.com\", \"dutchdailynews.com\", \"fedsalert.com\", \"sott.net\", \"bettergov.org\"])"
      ]
     },
     "execution_count": 3,
     "metadata": {},
     "output_type": "execute_result"
    }
   ],
   "source": [
    "bias = loadBias()"
   ]
  },
  {
   "cell_type": "code",
   "execution_count": 4,
   "metadata": {},
   "outputs": [
    {
     "name": "stderr",
     "output_type": "stream",
     "text": [
      "Progress: 100%|█████████████████████████████████████████| Time: 0:01:30days\n",
      "Progress: 100%|█████████████████████████████████████████| Time: 0:00:01\n"
     ]
    },
    {
     "data": {
      "text/plain": [
       "Dict{String,Dict} with 5 entries:\n",
       "  \"script\" => Dict{String,Dict}(Pair{String,Dict}(\"capx.co\", Dict(\"ajax.googlea…\n",
       "  \"link\"   => Dict{String,Dict}(Pair{String,Dict}(\"capx.co\", Dict(\"uqvk92z67p11…\n",
       "  \"img\"    => Dict{String,Dict}(Pair{String,Dict}(\"capx.co\", Dict(\"uqvk92z67p11…\n",
       "  \"a\"      => Dict{String,Dict}(Pair{String,Dict}(\"capx.co\", Dict(\"reuters.com\"…\n",
       "  \"mut\"    => Dict{String,Dict}(Pair{String,Dict}(\"prnewswire.co.in\", Dict(\"prn…"
      ]
     },
     "execution_count": 4,
     "metadata": {},
     "output_type": "execute_result"
    }
   ],
   "source": [
    "cats = buildWeb(save)"
   ]
  },
  {
   "cell_type": "code",
   "execution_count": 39,
   "metadata": {
    "scrolled": true
   },
   "outputs": [
    {
     "data": {
      "text/plain": [
       "({3341, 4765} undirected simple Int64 graph, Dict(\"prnewswire.co.in\"=>1,\"bluebirdbanter.com\"=>4,\"aei.org\"=>6,\"cyprus-mail.com\"=>8,\"securitytoday.com\"=>2964,\"news-gazette.com\"=>10,\"oilreviewafrica.com\"=>13,\"virginiamn.com\"=>18,\"themalaymailonline.com\"=>22,\"sacbee.com\"=>24…), Dict(2843=>\"indy100.com\",1316=>\"cato.org\",1333=>\"bgamplifier.com\",3120=>\"obituaries.tribstar.com\",1671=>\"investigations.blog.ajc.com\",1131=>\"athensmessenger.com\",74=>\"barrheadleader.com\",1662=>\"ch-aviation.com\",1265=>\"imore.com\",1469=>\"wfxd.com\"…))"
      ]
     },
     "execution_count": 39,
     "metadata": {},
     "output_type": "execute_result"
    }
   ],
   "source": [
    "G, s2i, i2s = constructGraph(cats[\"mut\"], minsamp=10, giant=false)"
   ]
  },
  {
   "cell_type": "code",
   "execution_count": 18,
   "metadata": {},
   "outputs": [
    {
     "name": "stdout",
     "output_type": "stream",
     "text": [
      "1\n",
      "bias(\"mut\", 10)\n",
      "AUC : 0.7503467406380028\n",
      "AUC : 0.7724654377880183\n",
      "AUC : 0.7411347517730497\n",
      "1\n",
      "bias(\"a\", 1000)\n",
      "AUC : 0.6065573770491803\n",
      "AUC : 0.7986111111111112\n",
      "AUC : 0.6509433962264151\n",
      "1\n",
      "bias(\"img\", 100)\n",
      "AUC : 0.5080188679245283\n",
      "AUC : 0.5535714285714286\n",
      "AUC : 0.5694444444444444\n"
     ]
    },
    {
     "ename": "LoadError",
     "evalue": "\u001b[91mMethodError: no method matching reality(::String, ::String)\u001b[0m\nClosest candidates are:\n  reality(::Any, ::Any, \u001b[91m::Any\u001b[39m) at /home/nknauf3/news/NewsGraphing/graphing.jl:77\u001b[39m",
     "output_type": "error",
     "traceback": [
      "\u001b[91mMethodError: no method matching reality(::String, ::String)\u001b[0m\nClosest candidates are:\n  reality(::Any, ::Any, \u001b[91m::Any\u001b[39m) at /home/nknauf3/news/NewsGraphing/graphing.jl:77\u001b[39m",
      "",
      "Stacktrace:",
      " [1] \u001b[1mmacro expansion\u001b[22m\u001b[22m at \u001b[1m./In[18]:49\u001b[22m\u001b[22m [inlined]",
      " [2] \u001b[1manonymous\u001b[22m\u001b[22m at \u001b[1m./<missing>:?\u001b[22m\u001b[22m"
     ]
    }
   ],
   "source": [
    "sets = [(\"mut\", 10), (\"a\", 1000), (\"img\", 100)]\n",
    "\n",
    "s2p = Dict{String, Array}()\n",
    "\n",
    "for (sn, set) in enumerate(sets)\n",
    "    G, s2i, i2s = constructGraph(cats[set[1]], minsamp=set[2], giant=false)\n",
    "    println(minimum([length([all_neighbors(G, v)]) for v in 1:nv(G)]))\n",
    "    #lx, ly = spring_layout(G)\n",
    "    for key in [\"bias\"]\n",
    "        println(key*string(set))\n",
    "        try mkdir(\"plots/\"*string(set[1])) catch x end\n",
    "        try mkdir(\"plots/\"*string(set[1])*\"/\"*string(set[2])) catch x end\n",
    "        mydir = \"plots/\"*string(set[1])*\"/\"*string(set[2])*\"/\"\n",
    "        \n",
    "        #plotGraph(bias, G, s2i, i2s, lx, ly, color=key,\n",
    "        #            path=mydir*key*\"train.png\")\n",
    "        ϕ = makeBeliefs(bias, G, s2i, i2s, key)\n",
    "        pr, b, lodds = beliefprop(G, ϕ, Psis(0.44), 2);\n",
    "        #plotGraph(bias, G, s2i, i2s, lx, ly, color=b[:,1],\n",
    "        #            path=mydir*key*\"prop.png\")\n",
    "        \n",
    "        folds = makeFolds(G, 3)\n",
    "        aucs = []\n",
    "        for f in 1:3\n",
    "            ϕ = makeBeliefs(bias, G, s2i, i2s, \"fake\", folds=folds, fold=f)\n",
    "            pr, b, lodds = beliefprop(G, ϕ, Psis(0.44), 2);\n",
    "            \n",
    "            for v in 1:nv(G)\n",
    "                if ~haskey(s2p, i2s[v])\n",
    "                    s2p[i2s[v]] = ones(1, size(sets, 1)*3+1)./2.0\n",
    "                end\n",
    "                s2p[i2s[v]][(f-1)*3+sn] = b[v]\n",
    "            end\n",
    "            \n",
    "            roc_x, roc_y, acc, lvls = getROC(bias, G, s2i, i2s, \"fake\", b, folds=folds, fold=f)\n",
    "            auc = AUC(roc_x, roc_y)\n",
    "            #println(\"Max \"*string(maximum(acc))*\" at \"*string(lvls[find(x->x==maximum(acc), acc)[1]]))\n",
    "            println(\"AUC : \"*string(auc))\n",
    "            push!(aucs, auc)\n",
    "        end\n",
    "        \n",
    "        open(mydir*\"score.txt\", \"w\") do f\n",
    "            write(f, string(sum(aucs)/3))\n",
    "        end\n",
    "    end\n",
    "end\n",
    "\n",
    "for site in keys(s2p)\n",
    "    s2p[site][10] = reality(site, \"bias\")\n",
    "end\n",
    "\n",
    "s2p"
   ]
  },
  {
   "cell_type": "code",
   "execution_count": 19,
   "metadata": {},
   "outputs": [
    {
     "data": {
      "text/plain": [
       "1×10 Array{Float64,2}:\n",
       " 5.1213e-5  0.00972424  0.01  0.00257828  …  2.55768e-5  0.00972422  0.5  0.5"
      ]
     },
     "execution_count": 19,
     "metadata": {},
     "output_type": "execute_result"
    }
   ],
   "source": [
    "s2p[\"cnn.com\"]"
   ]
  },
  {
   "cell_type": "code",
   "execution_count": null,
   "metadata": {
    "collapsed": true
   },
   "outputs": [],
   "source": []
  }
 ],
 "metadata": {
  "kernelspec": {
   "display_name": "Julia 0.6.0",
   "language": "julia",
   "name": "julia-0.6"
  },
  "language_info": {
   "file_extension": ".jl",
   "mimetype": "application/julia",
   "name": "julia",
   "version": "0.6.0"
  }
 },
 "nbformat": 4,
 "nbformat_minor": 2
}
