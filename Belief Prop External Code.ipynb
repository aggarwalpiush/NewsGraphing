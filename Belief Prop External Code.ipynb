{
 "cells": [
  {
   "cell_type": "code",
   "execution_count": 1,
   "metadata": {
    "scrolled": true
   },
   "outputs": [
    {
     "name": "stderr",
     "output_type": "stream",
     "text": [
      "\u001b[1m\u001b[33mWARNING: \u001b[39m\u001b[22m\u001b[33mNo working GUI backend found for matplotlib\u001b[39m\n",
      "WARNING: Method definition ==(Base.Nullable{S}, Base.Nullable{T}) in module Base at nullable.jl:238 overwritten in module NullableArrays at /home/nknauf3/.julia/v0.6/NullableArrays/src/operators.jl:128.\n",
      "WARNING: Method definition count() in module IterTools at deprecated.jl:56 overwritten in module Iterators at deprecated.jl:56.\n",
      "WARNING: Method definition count(Number) in module IterTools at deprecated.jl:56 overwritten in module Iterators at deprecated.jl:56.\n",
      "WARNING: Method definition count(Number, Number) in module IterTools at deprecated.jl:56 overwritten in module Iterators at deprecated.jl:56.\n"
     ]
    },
    {
     "data": {
      "text/plain": [
       "Psis (generic function with 1 method)"
      ]
     },
     "execution_count": 1,
     "metadata": {},
     "output_type": "execute_result"
    }
   ],
   "source": [
    "using GraphPlot\n",
    "using Plots\n",
    "pyplot()\n",
    "include(\"loadbuild.jl\")\n",
    "include(\"graphing.jl\")\n",
    "include(\"beliefprop.jl\")"
   ]
  },
  {
   "cell_type": "code",
   "execution_count": 2,
   "metadata": {
    "collapsed": true
   },
   "outputs": [
    {
     "data": {
      "text/html": [
       "<table class=\"data-frame\"><thead><tr><th></th><th>sdom</th><th>ddom</th><th>link</th></tr></thead><tbody><tr><th>1</th><td>Nullable{WeakRefString{UInt8}}(\"monitor.co.ug\")</td><td>Nullable{WeakRefString{UInt8}}(\"theeastafrican.co.ke\")</td><td>Nullable{WeakRefString{UInt8}}(\"a\")</td></tr><tr><th>2</th><td>Nullable{WeakRefString{UInt8}}(\"monitor.co.ug\")</td><td>Nullable{WeakRefString{UInt8}}(\"theeastafrican.co.ke\")</td><td>Nullable{WeakRefString{UInt8}}(\"a\")</td></tr><tr><th>3</th><td>Nullable{WeakRefString{UInt8}}(\"monitor.co.ug\")</td><td>Nullable{WeakRefString{UInt8}}(\"theeastafrican.co.ke\")</td><td>Nullable{WeakRefString{UInt8}}(\"a\")</td></tr><tr><th>4</th><td>Nullable{WeakRefString{UInt8}}(\"monitor.co.ug\")</td><td>Nullable{WeakRefString{UInt8}}(\"theeastafrican.co.ke\")</td><td>Nullable{WeakRefString{UInt8}}(\"a\")</td></tr><tr><th>5</th><td>Nullable{WeakRefString{UInt8}}(\"monitor.co.ug\")</td><td>Nullable{WeakRefString{UInt8}}(\"theeastafrican.co.ke\")</td><td>Nullable{WeakRefString{UInt8}}(\"a\")</td></tr><tr><th>6</th><td>Nullable{WeakRefString{UInt8}}(\"monitor.co.ug\")</td><td>Nullable{WeakRefString{UInt8}}(\"theeastafrican.co.ke\")</td><td>Nullable{WeakRefString{UInt8}}(\"a\")</td></tr><tr><th>7</th><td>Nullable{WeakRefString{UInt8}}(\"monitor.co.ug\")</td><td>Nullable{WeakRefString{UInt8}}(\"theeastafrican.co.ke\")</td><td>Nullable{WeakRefString{UInt8}}(\"a\")</td></tr><tr><th>8</th><td>Nullable{WeakRefString{UInt8}}(\"monitor.co.ug\")</td><td>Nullable{WeakRefString{UInt8}}(\"theeastafrican.co.ke\")</td><td>Nullable{WeakRefString{UInt8}}(\"a\")</td></tr><tr><th>9</th><td>Nullable{WeakRefString{UInt8}}(\"monitor.co.ug\")</td><td>Nullable{WeakRefString{UInt8}}(\"theeastafrican.co.ke\")</td><td>Nullable{WeakRefString{UInt8}}(\"a\")</td></tr><tr><th>10</th><td>Nullable{WeakRefString{UInt8}}(\"monitor.co.ug\")</td><td>Nullable{WeakRefString{UInt8}}(\"theeastafrican.co.ke\")</td><td>Nullable{WeakRefString{UInt8}}(\"a\")</td></tr><tr><th>11</th><td>Nullable{WeakRefString{UInt8}}(\"monitor.co.ug\")</td><td>Nullable{WeakRefString{UInt8}}(\"theeastafrican.co.ke\")</td><td>Nullable{WeakRefString{UInt8}}(\"a\")</td></tr><tr><th>12</th><td>Nullable{WeakRefString{UInt8}}(\"monitor.co.ug\")</td><td>Nullable{WeakRefString{UInt8}}(\"theeastafrican.co.ke\")</td><td>Nullable{WeakRefString{UInt8}}(\"a\")</td></tr><tr><th>13</th><td>Nullable{WeakRefString{UInt8}}(\"monitor.co.ug\")</td><td>Nullable{WeakRefString{UInt8}}(\"theeastafrican.co.ke\")</td><td>Nullable{WeakRefString{UInt8}}(\"a\")</td></tr><tr><th>14</th><td>Nullable{WeakRefString{UInt8}}(\"monitor.co.ug\")</td><td>Nullable{WeakRefString{UInt8}}(\"theeastafrican.co.ke\")</td><td>Nullable{WeakRefString{UInt8}}(\"a\")</td></tr><tr><th>15</th><td>Nullable{WeakRefString{UInt8}}(\"monitor.co.ug\")</td><td>Nullable{WeakRefString{UInt8}}(\"theeastafrican.co.ke\")</td><td>Nullable{WeakRefString{UInt8}}(\"a\")</td></tr><tr><th>16</th><td>Nullable{WeakRefString{UInt8}}(\"monitor.co.ug\")</td><td>Nullable{WeakRefString{UInt8}}(\"photos.monitor.co.ug\")</td><td>Nullable{WeakRefString{UInt8}}(\"a\")</td></tr><tr><th>17</th><td>Nullable{WeakRefString{UInt8}}(\"monitor.co.ug\")</td><td>Nullable{WeakRefString{UInt8}}(\"epaper.monitor.co.ug\")</td><td>Nullable{WeakRefString{UInt8}}(\"a\")</td></tr><tr><th>18</th><td>Nullable{WeakRefString{UInt8}}(\"monitor.co.ug\")</td><td>Nullable{WeakRefString{UInt8}}(\"kfm.co.ug\")</td><td>Nullable{WeakRefString{UInt8}}(\"a\")</td></tr><tr><th>19</th><td>Nullable{WeakRefString{UInt8}}(\"monitor.co.ug\")</td><td>Nullable{WeakRefString{UInt8}}(\"monitordirectory.co.ug\")</td><td>Nullable{WeakRefString{UInt8}}(\"a\")</td></tr><tr><th>20</th><td>Nullable{WeakRefString{UInt8}}(\"monitor.co.ug\")</td><td>Nullable{WeakRefString{UInt8}}(\"sqoop.co.ug\")</td><td>Nullable{WeakRefString{UInt8}}(\"a\")</td></tr><tr><th>21</th><td>Nullable{WeakRefString{UInt8}}(\"monitor.co.ug\")</td><td>Nullable{WeakRefString{UInt8}}(\"dembefm.ug\")</td><td>Nullable{WeakRefString{UInt8}}(\"a\")</td></tr><tr><th>22</th><td>Nullable{WeakRefString{UInt8}}(\"monitor.co.ug\")</td><td>Nullable{WeakRefString{UInt8}}(\"ntv.co.ug\")</td><td>Nullable{WeakRefString{UInt8}}(\"a\")</td></tr><tr><th>23</th><td>Nullable{WeakRefString{UInt8}}(\"monitor.co.ug\")</td><td>Nullable{WeakRefString{UInt8}}(\"africareview.com\")</td><td>Nullable{WeakRefString{UInt8}}(\"a\")</td></tr><tr><th>24</th><td>Nullable{WeakRefString{UInt8}}(\"monitor.co.ug\")</td><td>Nullable{WeakRefString{UInt8}}(\"theeastafrican.co.ke\")</td><td>Nullable{WeakRefString{UInt8}}(\"a\")</td></tr><tr><th>25</th><td>Nullable{WeakRefString{UInt8}}(\"monitor.co.ug\")</td><td>Nullable{WeakRefString{UInt8}}(\"nation.co.ke\")</td><td>Nullable{WeakRefString{UInt8}}(\"a\")</td></tr><tr><th>26</th><td>Nullable{WeakRefString{UInt8}}(\"monitor.co.ug\")</td><td>Nullable{WeakRefString{UInt8}}(\"thecitizen.co.tz\")</td><td>Nullable{WeakRefString{UInt8}}(\"a\")</td></tr><tr><th>27</th><td>Nullable{WeakRefString{UInt8}}(\"monitor.co.ug\")</td><td>Nullable{WeakRefString{UInt8}}(\"bdafrica.com\")</td><td>Nullable{WeakRefString{UInt8}}(\"a\")</td></tr><tr><th>28</th><td>Nullable{WeakRefString{UInt8}}(\"monitor.co.ug\")</td><td>Nullable{WeakRefString{UInt8}}(\"nationmedia.com\")</td><td>Nullable{WeakRefString{UInt8}}(\"a\")</td></tr><tr><th>29</th><td>Nullable{WeakRefString{UInt8}}(\"monitor.co.ug\")</td><td>Nullable{WeakRefString{UInt8}}(\"plus.google.com\")</td><td>Nullable{WeakRefString{UInt8}}(\"link\")</td></tr><tr><th>30</th><td>Nullable{WeakRefString{UInt8}}(\"monitor.co.ug\")</td><td>Nullable{WeakRefString{UInt8}}(\"googletagservices.com\")</td><td>Nullable{WeakRefString{UInt8}}(\"script\")</td></tr><tr><th>&vellip;</th><td>&vellip;</td><td>&vellip;</td><td>&vellip;</td></tr></tbody></table>"
      ],
      "text/plain": [
       "40800775×3 DataFrames.DataFrame\n",
       "│ Row      │ sdom             │ ddom                     │ link     │\n",
       "├──────────┼──────────────────┼──────────────────────────┼──────────┤\n",
       "│ 1        │ \"monitor.co.ug\"  │ \"theeastafrican.co.ke\"   │ \"a\"      │\n",
       "│ 2        │ \"monitor.co.ug\"  │ \"theeastafrican.co.ke\"   │ \"a\"      │\n",
       "│ 3        │ \"monitor.co.ug\"  │ \"theeastafrican.co.ke\"   │ \"a\"      │\n",
       "│ 4        │ \"monitor.co.ug\"  │ \"theeastafrican.co.ke\"   │ \"a\"      │\n",
       "│ 5        │ \"monitor.co.ug\"  │ \"theeastafrican.co.ke\"   │ \"a\"      │\n",
       "│ 6        │ \"monitor.co.ug\"  │ \"theeastafrican.co.ke\"   │ \"a\"      │\n",
       "│ 7        │ \"monitor.co.ug\"  │ \"theeastafrican.co.ke\"   │ \"a\"      │\n",
       "│ 8        │ \"monitor.co.ug\"  │ \"theeastafrican.co.ke\"   │ \"a\"      │\n",
       "│ 9        │ \"monitor.co.ug\"  │ \"theeastafrican.co.ke\"   │ \"a\"      │\n",
       "│ 10       │ \"monitor.co.ug\"  │ \"theeastafrican.co.ke\"   │ \"a\"      │\n",
       "│ 11       │ \"monitor.co.ug\"  │ \"theeastafrican.co.ke\"   │ \"a\"      │\n",
       "⋮\n",
       "│ 40800764 │ \"923thedock.com\" │ \"larchecom.com\"          │ \"a\"      │\n",
       "│ 40800765 │ \"923thedock.com\" │ \"netgainseo.com\"         │ \"a\"      │\n",
       "│ 40800766 │ \"923thedock.com\" │ \"larchecom.com\"          │ \"a\"      │\n",
       "│ 40800767 │ \"923thedock.com\" │ \"larchedigitalmedia.com\" │ \"a\"      │\n",
       "│ 40800768 │ \"923thedock.com\" │ \"netgainseo.com\"         │ \"a\"      │\n",
       "│ 40800769 │ \"923thedock.com\" │ \"1041thedock.com\"        │ \"link\"   │\n",
       "│ 40800770 │ \"923thedock.com\" │ \"cdnjs.cloudflare.com\"   │ \"link\"   │\n",
       "│ 40800771 │ \"923thedock.com\" │ \"ajax.googleapis.com\"    │ \"link\"   │\n",
       "│ 40800772 │ \"923thedock.com\" │ \"ajax.googleapis.com\"    │ \"script\" │\n",
       "│ 40800773 │ \"923thedock.com\" │ \"ajax.googleapis.com\"    │ \"script\" │\n",
       "│ 40800774 │ \"923thedock.com\" │ \"static.freeskreen.com\"  │ \"script\" │\n",
       "│ 40800775 │ \"923thedock.com\" │ \"cdnjs.cloudflare.com\"   │ \"script\" │"
      ]
     },
     "execution_count": 2,
     "metadata": {},
     "output_type": "execute_result"
    }
   ],
   "source": [
    "save = loadSave()"
   ]
  },
  {
   "cell_type": "code",
   "execution_count": 3,
   "metadata": {
    "collapsed": true
   },
   "outputs": [
    {
     "data": {
      "text/plain": [
       "(1474×5 DataFrames.DataFrame\n",
       "│ Row  │ x1                              │ x2   │ x3          │ x4  │\n",
       "├──────┼─────────────────────────────────┼──────┼─────────────┼─────┤\n",
       "│ 1    │ \"Anthropocene Magazine\"         │ \"C\"  │ \"VERY HIGH\" │ NA  │\n",
       "│ 2    │ \"Raw Progressive\"               │ \"L\"  │ \"MIXED\"     │ NA  │\n",
       "│ 3    │ \"The Record (NJ)\"               │ \"LC\" │ \"HIGH\"      │ NA  │\n",
       "│ 4    │ \"The Automatic Earth\"           │ \"LC\" │ \"HIGH\"      │ NA  │\n",
       "│ 5    │ \"Al Jazeera\"                    │ \"LC\" │ \"HIGH\"      │ NA  │\n",
       "│ 6    │ \"Lexington Institute\"           │ \"RC\" │ \"HIGH\"      │ NA  │\n",
       "│ 7    │ \"TakePart\"                      │ \"L\"  │ \"HIGH\"      │ NA  │\n",
       "│ 8    │ \"Broken World News\"             │ NA   │ NA          │ \"S\" │\n",
       "│ 9    │ \"Townhall\"                      │ \"R\"  │ \"HIGH\"      │ NA  │\n",
       "│ 10   │ \"Left Action\"                   │ \"L\"  │ \"HIGH\"      │ NA  │\n",
       "│ 11   │ \"Western Journalism\"            │ \"R\"  │ \"MIXED\"     │ NA  │\n",
       "⋮\n",
       "│ 1463 │ \"Right Smarts\"                  │ NA   │ NA          │ \"F\" │\n",
       "│ 1464 │ \"The Gateway Pundit\"            │ NA   │ NA          │ \"F\" │\n",
       "│ 1465 │ \"Conservative Spirit\"           │ NA   │ NA          │ \"F\" │\n",
       "│ 1466 │ \"Age of Shitlords\"              │ NA   │ NA          │ \"F\" │\n",
       "│ 1467 │ \"USA News for You\"              │ NA   │ NA          │ \"F\" │\n",
       "│ 1468 │ \"Adobo Chronicles\"              │ NA   │ NA          │ \"S\" │\n",
       "│ 1469 │ \"Truth Monitor\"                 │ NA   │ NA          │ \"F\" │\n",
       "│ 1470 │ \"The American Interest\"         │ \"RC\" │ \"HIGH\"      │ NA  │\n",
       "│ 1471 │ \"Dutch Daily News\"              │ \"LC\" │ \"HIGH\"      │ NA  │\n",
       "│ 1472 │ \"FedsAlert\"                     │ NA   │ NA          │ \"S\" │\n",
       "│ 1473 │ \"Sign of the Times\"             │ NA   │ \"MIXED\"     │ \"X\" │\n",
       "│ 1474 │ \"Better Government Association\" │ \"C\"  │ \"HIGH\"      │ NA  │\n",
       "\n",
       "│ Row  │ x5                          │\n",
       "├──────┼─────────────────────────────┤\n",
       "│ 1    │ \"anthropocenemagazine.org\"  │\n",
       "│ 2    │ \"rawprogressive.com\"        │\n",
       "│ 3    │ \"northjersey.com\"           │\n",
       "│ 4    │ \"theautomaticearth.com\"     │\n",
       "│ 5    │ \"aljazeera.com\"             │\n",
       "│ 6    │ \"lexingtoninstitute.org\"    │\n",
       "│ 7    │ \"takepart.com\"              │\n",
       "│ 8    │ \"brokenworldnews.com\"       │\n",
       "│ 9    │ \"townhall.com\"              │\n",
       "│ 10   │ \"leftaction.com\"            │\n",
       "│ 11   │ \"westernjournalism.com\"     │\n",
       "⋮\n",
       "│ 1463 │ \"rightsmarts.com\"           │\n",
       "│ 1464 │ \"thegatewaypundit.com\"      │\n",
       "│ 1465 │ \"conservativespirit.com\"    │\n",
       "│ 1466 │ \"ageofshitlords.com\"        │\n",
       "│ 1467 │ \"usanews4u.us\"              │\n",
       "│ 1468 │ \"adobochronicles.com\"       │\n",
       "│ 1469 │ \"truthmonitor.com\"          │\n",
       "│ 1470 │ \"the-american-interest.com\" │\n",
       "│ 1471 │ \"dutchdailynews.com\"        │\n",
       "│ 1472 │ \"fedsalert.com\"             │\n",
       "│ 1473 │ \"sott.net\"                  │\n",
       "│ 1474 │ \"bettergov.org\"             │, String[\"anthropocenemagazine.org\", \"rawprogressive.com\", \"northjersey.com\", \"theautomaticearth.com\", \"aljazeera.com\", \"lexingtoninstitute.org\", \"takepart.com\", \"brokenworldnews.com\", \"townhall.com\", \"leftaction.com\"  …  \"conservativespirit.com\", \"ageofshitlords.com\", \"usanews4u.us\", \"adobochronicles.com\", \"truthmonitor.com\", \"the-american-interest.com\", \"dutchdailynews.com\", \"fedsalert.com\", \"sott.net\", \"bettergov.org\"])"
      ]
     },
     "execution_count": 3,
     "metadata": {},
     "output_type": "execute_result"
    }
   ],
   "source": [
    "bias = loadBias()"
   ]
  },
  {
   "cell_type": "code",
   "execution_count": 4,
   "metadata": {},
   "outputs": [
    {
     "name": "stderr",
     "output_type": "stream",
     "text": [
      "Progress: 100%|█████████████████████████████████████████| Time: 0:01:35days\n",
      "Progress: 100%|█████████████████████████████████████████| Time: 0:00:01\n"
     ]
    },
    {
     "data": {
      "text/plain": [
       "Dict{String,Dict} with 5 entries:\n",
       "  \"script\" => Dict{String,Dict}(Pair{String,Dict}(\"capx.co\", Dict(\"ajax.googlea…\n",
       "  \"link\"   => Dict{String,Dict}(Pair{String,Dict}(\"capx.co\", Dict(\"uqvk92z67p11…\n",
       "  \"img\"    => Dict{String,Dict}(Pair{String,Dict}(\"capx.co\", Dict(\"fee.org\"=>1,…\n",
       "  \"a\"      => Dict{String,Dict}(Pair{String,Dict}(\"capx.co\", Dict(\"reuters.com\"…\n",
       "  \"mut\"    => Dict{String,Dict}(Pair{String,Dict}(\"prnewswire.co.in\", Dict(\"prn…"
      ]
     },
     "execution_count": 4,
     "metadata": {},
     "output_type": "execute_result"
    }
   ],
   "source": [
    "cats = buildWeb(save)"
   ]
  },
  {
   "cell_type": "code",
   "execution_count": 39,
   "metadata": {
    "scrolled": true
   },
   "outputs": [
    {
     "data": {
      "text/plain": [
       "({3341, 4765} undirected simple Int64 graph, Dict(\"prnewswire.co.in\"=>1,\"bluebirdbanter.com\"=>4,\"aei.org\"=>6,\"cyprus-mail.com\"=>8,\"securitytoday.com\"=>2964,\"news-gazette.com\"=>10,\"oilreviewafrica.com\"=>13,\"virginiamn.com\"=>18,\"themalaymailonline.com\"=>22,\"sacbee.com\"=>24…), Dict(2843=>\"indy100.com\",1316=>\"cato.org\",1333=>\"bgamplifier.com\",3120=>\"obituaries.tribstar.com\",1671=>\"investigations.blog.ajc.com\",1131=>\"athensmessenger.com\",74=>\"barrheadleader.com\",1662=>\"ch-aviation.com\",1265=>\"imore.com\",1469=>\"wfxd.com\"…))"
      ]
     },
     "execution_count": 39,
     "metadata": {},
     "output_type": "execute_result"
    }
   ],
   "source": [
    "G, s2i, i2s = constructGraph(cats[\"mut\"], minsamp=10, giant=false)"
   ]
  },
  {
   "cell_type": "code",
   "execution_count": 51,
   "metadata": {
    "scrolled": false
   },
   "outputs": [
    {
     "name": "stdout",
     "output_type": "stream",
     "text": [
      "1\n",
      "bias(\"mut\", 50)\n",
      "AUC : 0.7219387755102041\n",
      "AUC : 0.7820870535714285\n",
      "AUC : 0.7147058823529412\n",
      "fake(\"mut\", 50)\n",
      "AUC : 0.8796875\n",
      "AUC : 0.7946428571428571\n"
     ]
    },
    {
     "data": {
      "image/png": "[encoded data removed]",
      "text/plain": [
       "PyPlot.Figure(PyObject <matplotlib.figure.Figure object at 0x7f293907b590>)"
      ]
     },
     "metadata": {},
     "output_type": "display_data"
    },
    {
     "name": "stdout",
     "output_type": "stream",
     "text": [
      "AUC : 0.7305084745762712\n"
     ]
    }
   ],
   "source": [
    "sets = [(\"mut\", 50)]#[(\"mut\", 1000), (\"mut\", 50), (\"mut\", 2), (\"mut\", 1), (\"a\", 1000), (\"a\", 500),(\"a\", 100), (\"img\", 200), (\"img\", 50)]\n",
    "\n",
    "s2p = Dict{String, Array}()\n",
    "\n",
    "roc_x = Vector{Float64}()\n",
    "roc_y = Vector{Float64}()\n",
    "\n",
    "for (sn, set) in enumerate(sets)\n",
    "    G, s2i, i2s = constructGraph(cats[set[1]], minsamp=set[2], giant=false)\n",
    "    G2, s2i2, i2s2 = constructGraph(cats[set[1]], minsamp=set[2], giant=true)\n",
    "    println(minimum([length([x for x in all_neighbors(G, v) if x != v]) for v in 1:nv(G)]))\n",
    "    lx, ly = spring_layout(G)\n",
    "    lx2, ly2 = spring_layout(G2)\n",
    "    for key in [\"bias\", \"fake\"]\n",
    "        p = plot()\n",
    "        plot!(p, [0, 1], [0, 1], line=:dash)\n",
    "        println(key*string(set))\n",
    "        try mkdir(\"plots/\"*string(set[1])) catch x end\n",
    "        try mkdir(\"plots/\"*string(set[1])*\"/\"*string(set[2])) catch x end\n",
    "        mydir = \"plots/\"*string(set[1])*\"/\"*string(set[2])*\"/\"\n",
    "        \n",
    "        plotGraph(bias, G, s2i, i2s, lx, ly, color=key,\n",
    "                    path=mydir*key*\"train.png\")\n",
    "        ϕ = makeBeliefs(bias, G, s2i, i2s, key)\n",
    "        pr, b, lodds = beliefprop(G, ϕ, Psis(0.44), 10);\n",
    "        plotGraph(bias, G, s2i, i2s, lx, ly, color=b[:,1],\n",
    "                    path=mydir*key*\"prop.png\")\n",
    "                                        \n",
    "        plotGraph(bias, G2, s2i2, i2s2, lx2, ly2, color=key,\n",
    "                    path=mydir*key*\"train_main.png\")\n",
    "        ϕ = makeBeliefs(bias, G2, s2i2, i2s2, key)\n",
    "        pr, b, lodds = beliefprop(G2, ϕ, Psis(0.44), 10);\n",
    "        plotGraph(bias, G2, s2i2, i2s2, lx2, ly2, color=b[:,1],\n",
    "                    path=mydir*key*\"prop_main.png\")\n",
    "        \n",
    "        folds = makeFolds(G, 3)\n",
    "        aucs = []\n",
    "        for f in 1:3\n",
    "            ϕ = makeBeliefs(bias, G, s2i, i2s, key, folds=folds, fold=f)\n",
    "            pr, b, lodds = beliefprop(G, ϕ, Psis(0.44), 2);\n",
    "            \n",
    "            for v in 1:nv(G)\n",
    "                if folds[v] == f\n",
    "                    site = i2s[v]\n",
    "                    if ~haskey(s2p, site)\n",
    "                        s2p[site] = ones(1, size(sets, 1)+2)./2.0\n",
    "                        s2p[site][size(sets, 1)+1] = reality(bias, site, \"bias\")\n",
    "                        s2p[site][size(sets, 1)+2] = folds[v]\n",
    "                    end\n",
    "                    s2p[site][sn] = b[v]\n",
    "                end\n",
    "            end\n",
    "            \n",
    "            roc_x, roc_y, acc, lvls = getROC(bias, G, s2i, i2s, key, b, folds=folds, fold=f)\n",
    "            auc = AUC(roc_x, roc_y)\n",
    "            #println(\"Max \"*string(maximum(acc))*\" at \"*string(lvls[find(x->x==maximum(acc), acc)[1]]))\n",
    "            println(\"AUC : \"*string(auc))\n",
    "            #println(typeof(roc_x))\n",
    "            #println(typeof(roc_y))\n",
    "            #println(roc_x)\n",
    "            #println(roc_y)\n",
    "            plot!(p, roc_x, roc_y)\n",
    "            push!(aucs, auc)\n",
    "        end\n",
    "        savefig(mydir*key*\"_ROC_curve.png\")\n",
    "        \n",
    "        open(mydir*\"score.txt\", \"w\") do f\n",
    "            write(f, string(sum(aucs)/3))\n",
    "        end\n",
    "    end\n",
    "end\n",
    "\n",
    "# for site in keys(s2p)\n",
    "#     s2p[site][10] = reality(bias, site, \"bias\")\n",
    "# end\n",
    "\n",
    "# s2p"
   ]
  },
  {
   "cell_type": "code",
   "execution_count": 11,
   "metadata": {},
   "outputs": [
    {
     "ename": "LoadError",
     "evalue": "\u001b[91mKeyError: key \"cnn.com\" not found\u001b[39m",
     "output_type": "error",
     "traceback": [
      "\u001b[91mKeyError: key \"cnn.com\" not found\u001b[39m",
      "",
      "Stacktrace:",
      " [1] \u001b[1mgetindex\u001b[22m\u001b[22m\u001b[1m(\u001b[22m\u001b[22m::Dict{String,Array}, ::String\u001b[1m)\u001b[22m\u001b[22m at \u001b[1m./dict.jl:474\u001b[22m\u001b[22m"
     ]
    }
   ],
   "source": [
    "s2p[\"cnn.com\"]"
   ]
  },
  {
   "cell_type": "code",
   "execution_count": 36,
   "metadata": {},
   "outputs": [
    {
     "data": {
      "text/plain": [
       "1×11 Array{Float64,2}:\n",
       " 0.5  0.5  0.5  0.5  0.5  0.5  0.5  0.5  0.5  1.0  1.0"
      ]
     },
     "execution_count": 36,
     "metadata": {},
     "output_type": "execute_result"
    }
   ],
   "source": [
    "s2p[\"bluebirdbanter.com\"]"
   ]
  },
  {
   "cell_type": "code",
   "execution_count": 37,
   "metadata": {
    "collapsed": true
   },
   "outputs": [],
   "source": [
    "using JSON"
   ]
  },
  {
   "cell_type": "code",
   "execution_count": 38,
   "metadata": {},
   "outputs": [
    {
     "data": {
      "text/plain": [
       "2693004"
      ]
     },
     "execution_count": 38,
     "metadata": {},
     "output_type": "execute_result"
    }
   ],
   "source": [
    "open(\"metadata.json\", \"w\") do f\n",
    "    write(f, JSON.json(s2p))\n",
    "end"
   ]
  },
  {
   "cell_type": "code",
   "execution_count": null,
   "metadata": {
    "collapsed": true
   },
   "outputs": [],
   "source": []
  }
 ],
 "metadata": {
  "kernelspec": {
   "display_name": "Julia 0.6.0",
   "language": "julia",
   "name": "julia-0.6"
  },
  "language_info": {
   "file_extension": ".jl",
   "mimetype": "application/julia",
   "name": "julia",
   "version": "0.6.0"
  }
 },
 "nbformat": 4,
 "nbformat_minor": 2
}
