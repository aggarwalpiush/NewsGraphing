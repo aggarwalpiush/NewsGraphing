{
 "cells": [
  {
   "cell_type": "code",
   "execution_count": null,
   "metadata": {},
   "outputs": [],
   "source": [
    "using Feather\n",
    "using ProgressMeter\n",
    "using JSON"
   ]
  },
  {
   "cell_type": "code",
   "execution_count": null,
   "metadata": {},
   "outputs": [],
   "source": [
    "df = Feather.read(\"save.feather\")\n",
    "size(df, 1)"
   ]
  },
  {
   "cell_type": "code",
   "execution_count": null,
   "metadata": {
    "collapsed": true
   },
   "outputs": [],
   "source": [
    "counts = Dict{String, Dict}()\n",
    "for key in [\"a\", \"img\", \"script\", \"link\"]\n",
    "    counts[key] = Dict{String, Dict}()\n",
    "end"
   ]
  },
  {
   "cell_type": "code",
   "execution_count": null,
   "metadata": {},
   "outputs": [],
   "source": [
    "p = Progress(size(df, 1), 0.1)\n",
    "for i in 1:size(df, 1)\n",
    "    sdom = get(df[i, 1])\n",
    "    ddom = get(df[i, 2])\n",
    "    key = get(df[i, 3])\n",
    "    if isascii(sdom) && isascii(ddom)\n",
    "        if ~haskey(counts[key], sdom)\n",
    "            counts[key][sdom] = Dict{String, Int}()\n",
    "        end\n",
    "        if ~haskey(counts[key][sdom], ddom)\n",
    "            counts[key][sdom][ddom] = 0\n",
    "        end\n",
    "        counts[key][sdom][ddom] += 1\n",
    "    end\n",
    "    next!(p)\n",
    "end"
   ]
  },
  {
   "cell_type": "code",
   "execution_count": null,
   "metadata": {},
   "outputs": [],
   "source": [
    "open(\"save.json\", \"w\") do f\n",
    "    write(f, JSON.json(counts))\n",
    "end"
   ]
  },
  {
   "cell_type": "code",
   "execution_count": null,
   "metadata": {
    "collapsed": true
   },
   "outputs": [],
   "source": []
  }
 ],
 "metadata": {
  "kernelspec": {
   "display_name": "Julia 0.6.0",
   "language": "julia",
   "name": "julia-0.6"
  },
  "language_info": {
   "file_extension": ".jl",
   "mimetype": "application/julia",
   "name": "julia",
   "version": "0.6.0"
  }
 },
 "nbformat": 4,
 "nbformat_minor": 2
}
