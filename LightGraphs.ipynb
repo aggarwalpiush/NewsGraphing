{
 "cells": [
  {
   "cell_type": "code",
   "execution_count": 1,
   "metadata": {},
   "outputs": [
    {
     "name": "stderr",
     "output_type": "stream",
     "text": [
      "WARNING: Method definition ==(Base.Nullable{S}, Base.Nullable{T}) in module Base at nullable.jl:238 overwritten in module NullableArrays at /home/nknauf3/.julia/v0.6/NullableArrays/src/operators.jl:128.\n"
     ]
    }
   ],
   "source": [
    "using Feather\n",
    "using LightGraphs\n",
    "using GraphPlot\n",
    "using Compose\n",
    "using DataFrames\n",
    "using Colors\n",
    "using ProgressMeter\n",
    "using Plots"
   ]
  },
  {
   "cell_type": "code",
   "execution_count": 2,
   "metadata": {},
   "outputs": [
    {
     "data": {
      "text/plain": [
       "23077780"
      ]
     },
     "execution_count": 2,
     "metadata": {},
     "output_type": "execute_result"
    }
   ],
   "source": [
    "df = Feather.read(\"save.feather\")\n",
    "size(df, 1)"
   ]
  },
  {
   "cell_type": "code",
   "execution_count": 3,
   "metadata": {
    "collapsed": true,
    "scrolled": true
   },
   "outputs": [],
   "source": [
    "bias = readtable(\"bias.csv\", header=false)\n",
    "code = r\"^(([^:/?#]+):)?(//([^/?#]*))?([^?#]*)(\\?([^#]*))?(#(.*))?\"\n",
    "#print(bias)\n",
    "c = 0\n",
    "biasnames = String[]\n",
    "for i in 1:size(bias,1)\n",
    "    if ~isna(bias[i, 5])\n",
    "        url = match(code, AbstractString(bias[i, 5]))\n",
    "        bias[i, 5] = replace(url[4], \"www.\", \"\")\n",
    "        push!(biasnames, bias[i, 5])\n",
    "    else\n",
    "        push!(biasnames, \"NA\")\n",
    "    end\n",
    "end"
   ]
  },
  {
   "cell_type": "code",
   "execution_count": 4,
   "metadata": {
    "scrolled": true
   },
   "outputs": [
    {
     "name": "stderr",
     "output_type": "stream",
     "text": [
      "Progress: 100%|█████████████████████████████████████████| Time: 0:01:03days\n"
     ]
    }
   ],
   "source": [
    "cats = Dict{String, Dict}()\n",
    "for key in [\"a\", \"link\", \"script\", \"img\"]\n",
    "    cats[key] = Dict{String, Dict}()\n",
    "end\n",
    "\n",
    "range = size(df, 1)\n",
    "\n",
    "p = Progress(range, 0.1)\n",
    "for i in 1:range\n",
    "    sdom = get(df[i, 1])\n",
    "    ddom = get(df[i, 2])\n",
    "    if isascii(sdom) && isascii(ddom)\n",
    "        cat = cats[get(df[i, 3])]\n",
    "        if ~haskey(cat, sdom)\n",
    "            cat[sdom] = Dict{String, Int}()\n",
    "        end\n",
    "        if ~haskey(cat[sdom], ddom)\n",
    "            cat[sdom][ddom] = 1\n",
    "        else\n",
    "            cat[sdom][ddom] += 1\n",
    "        end\n",
    "    end\n",
    "    next!(p)\n",
    "end"
   ]
  },
  {
   "cell_type": "code",
   "execution_count": 5,
   "metadata": {},
   "outputs": [
    {
     "data": {
      "text/html": [
       "<table class=\"data-frame\"><thead><tr><th></th><th>sdom</th><th>ddom</th><th>w</th></tr></thead><tbody><tr><th>1</th><td>bluebirdbanter.com</td><td>sbnation.com</td><td>13</td></tr><tr><th>2</th><td>gethampshire.co.uk</td><td>getsurrey.co.uk</td><td>2</td></tr><tr><th>3</th><td>securitytoday.com</td><td>ohsonline.com</td><td>3</td></tr><tr><th>4</th><td>sglinks.com</td><td>sgblogs.com</td><td>113</td></tr><tr><th>5</th><td>sglinks.com</td><td>classy.sg</td><td>17</td></tr><tr><th>6</th><td>gamrconnect.vgchartz.com</td><td>vgchartz.com</td><td>148</td></tr></tbody></table>"
      ],
      "text/plain": [
       "6×3 DataFrames.DataFrame\n",
       "│ Row │ sdom                       │ ddom              │ w   │\n",
       "├─────┼────────────────────────────┼───────────────────┼─────┤\n",
       "│ 1   │ \"bluebirdbanter.com\"       │ \"sbnation.com\"    │ 13  │\n",
       "│ 2   │ \"gethampshire.co.uk\"       │ \"getsurrey.co.uk\" │ 2   │\n",
       "│ 3   │ \"securitytoday.com\"        │ \"ohsonline.com\"   │ 3   │\n",
       "│ 4   │ \"sglinks.com\"              │ \"sgblogs.com\"     │ 113 │\n",
       "│ 5   │ \"sglinks.com\"              │ \"classy.sg\"       │ 17  │\n",
       "│ 6   │ \"gamrconnect.vgchartz.com\" │ \"vgchartz.com\"    │ 148 │"
      ]
     },
     "execution_count": 5,
     "metadata": {},
     "output_type": "execute_result"
    }
   ],
   "source": [
    "mutdata = DataFrame(sdom=String[], ddom=String[], w=Int64[])\n",
    "for src in keys(cats[\"a\"])\n",
    "    for dst in keys(cats[\"a\"][src])\n",
    "        if haskey(cats[\"a\"], dst) && haskey(cats[\"a\"][dst], src) && ~(src == dst)\n",
    "            push!(mutdata, [src, dst, cats[\"a\"][src][dst]])\n",
    "        end\n",
    "    end\n",
    "end\n",
    "size(mutdata, 1)\n",
    "head(mutdata)"
   ]
  },
  {
   "cell_type": "code",
   "execution_count": 6,
   "metadata": {
    "scrolled": true
   },
   "outputs": [
    {
     "name": "stdout",
     "output_type": "stream",
     "text": [
      "Number of node labels 1349\n"
     ]
    },
    {
     "name": "stderr",
     "output_type": "stream",
     "text": [
      "Progress: 100%|█████████████████████████████████████████| Time: 0:00:02\n"
     ]
    },
    {
     "name": "stdout",
     "output_type": "stream",
     "text": [
      "Number of nodes 1349\n",
      "Number of edges 2767\n"
     ]
    }
   ],
   "source": [
    "nodes = String[]\n",
    "minsamp = 10\n",
    "p = Progress(size(mutdata, 1), 1)\n",
    "for i in 1:size(mutdata, 1)\n",
    "    src = mutdata[i, 1]\n",
    "    dst = mutdata[i, 2]\n",
    "    if cats[\"a\"][src][dst] > minsamp && cats[\"a\"][dst][src] > minsamp\n",
    "        if ~(src in nodes)\n",
    "            push!(nodes, src)\n",
    "        end\n",
    "        if ~(dst in nodes)\n",
    "            push!(nodes, dst)\n",
    "        end\n",
    "    end\n",
    "    next!(p)\n",
    "end\n",
    "\n",
    "println(\"Number of node labels $(size(nodes,1))\")\n",
    "\n",
    "p = Progress(size(mutdata, 1), 1)\n",
    "G = Graph(size(nodes,1))\n",
    "for i in 1:size(mutdata, 1)\n",
    "    src = mutdata[i, 1]\n",
    "    dst = mutdata[i, 2]\n",
    "    if src in nodes && dst in nodes\n",
    "        add_edge!(G, find(nodes .== src)[1], find(nodes .== dst)[1])\n",
    "    end\n",
    "    next!(p)\n",
    "end\n",
    "\n",
    "println(\"Number of nodes $(nv(G))\")\n",
    "println(\"Number of edges $(ne(G))\")\n"
   ]
  },
  {
   "cell_type": "code",
   "execution_count": 7,
   "metadata": {},
   "outputs": [
    {
     "name": "stdout",
     "output_type": "stream",
     "text": [
      "colors\n",
      "graphed\n"
     ]
    }
   ],
   "source": [
    "nodesize = [length(neighbors(G, v)) for v in vertices(G)]\n",
    "#print(nodesize)\n",
    "function reality(x)\n",
    "    if x in biasnames\n",
    "        if isna(bias[find(biasnames .== x)[1], 4])\n",
    "            return 2\n",
    "        else\n",
    "            return 3\n",
    "        end\n",
    "    end\n",
    "    return 1\n",
    "end\n",
    "\n",
    "\n",
    "members = [reality(n) for n in nodes]\n",
    "colors = [colorant\"grey\", colorant\"blue\", colorant\"red\"]\n",
    "println(\"colors\")\n",
    "#graph = gplot(G, nodefillc=colors[members], nodelabel=nodes, nodelabelsize=nodesize*2)\n",
    "println(\"graphed\")\n",
    "#draw(PNG(\"karate.png\", 40cm, 40cm), graph)"
   ]
  },
  {
   "cell_type": "code",
   "execution_count": 8,
   "metadata": {},
   "outputs": [
    {
     "name": "stdout",
     "output_type": "stream",
     "text": [
      "Number of node labels 12869\n",
      "Number of nodes 12869\n",
      "Number of edges 14829\n"
     ]
    }
   ],
   "source": [
    "s2i = Dict{String, Int}()\n",
    "i2s = Dict{Int, String}()\n",
    "blacklist = String[\"twitter.com\", \"facebook.com\", \"youtube.com\", \"instagram.com\", \n",
    "    \"plus.google.com\", \"linkedin.com\", \"t.co\", \"itunes.apple.com\", \"pinterest.com\", \n",
    "    \"flickr.com\", \"bit.ly\", \"play.google.com\"]\n",
    "minsamp = 100\n",
    "count = 0\n",
    "body = cats[\"a\"]\n",
    "for src in keys(body)\n",
    "    for dst in keys(body[src])\n",
    "        if body[src][dst] > minsamp && haskey(cats[\"a\"]~(src in blacklist) && ~(dst in blacklist)\n",
    "            if ~haskey(s2i, src)\n",
    "                count += 1\n",
    "                s2i[src] = count\n",
    "                i2s[count] = src\n",
    "            end\n",
    "            if ~haskey(s2i, dst)\n",
    "                count += 1\n",
    "                s2i[dst] = count\n",
    "                i2s[count] = dst\n",
    "            end\n",
    "        end\n",
    "    end\n",
    "end\n",
    "\n",
    "println(\"Number of node labels $(length(s2i))\")\n",
    "\n",
    "G = Graph(count)\n",
    "for src in keys(cats[\"a\"])\n",
    "    for dst in keys(cats[\"a\"][src])\n",
    "        if cats[\"a\"][src][dst] > minsamp && ~(src in blacklist) && ~(dst in blacklist)\n",
    "            add_edge!(G, s2i[src], s2i[dst])\n",
    "        end\n",
    "    end\n",
    "end\n",
    "\n",
    "println(\"Number of nodes $(nv(G))\")\n",
    "println(\"Number of edges $(ne(G))\")\n"
   ]
  },
  {
   "cell_type": "code",
   "execution_count": 10,
   "metadata": {},
   "outputs": [
    {
     "name": "stderr",
     "output_type": "stream",
     "text": [
      "\n",
      "(process:27545): Pango-WARNING **: pango_layout_set_markup_with_accel: Error on line 1 char 31: Odd character '%', expected a '=' after attribute name 'search.scoop.co.nz' of element '%'\n"
     ]
    }
   ],
   "source": [
    "sg = sort(connected_components(G), by=size, rev=true)[1]\n",
    "\n",
    "ss2i = Dict{String, Int}()\n",
    "si2s = Dict{Int, String}()\n",
    "\n",
    "c = 0\n",
    "for i in sg\n",
    "    c += 1\n",
    "    ss2i[i2s[i]] = c\n",
    "    si2s[c] = i2s[i]\n",
    "end\n",
    "\n",
    "H = Graph(size(sg, 1))\n",
    "\n",
    "for j in 1:c\n",
    "    src = si2s[j]\n",
    "    if src in keys(cats[\"a\"])\n",
    "        for dst in keys(cats[\"a\"][src])\n",
    "            if cats[\"a\"][src][dst] > minsamp && ~(dst in blacklist)\n",
    "                add_edge!(H, j, ss2i[dst])\n",
    "            end\n",
    "        end\n",
    "    end\n",
    "end\n",
    "lx, ly = spring_layout(H)"
   ]
  },
  {
   "cell_type": "code",
   "execution_count": null,
   "metadata": {
    "collapsed": true
   },
   "outputs": [],
   "source": [
    "sizes = [2 + log(length(all_neighbors(H, v))) for v in 1:c]\n",
    "labels = [si2s[v] for v in 1:c]\n",
    "members = [reality(si2s[v]) for v in 1:c]\n",
    "colors = [colorant\"grey\", colorant\"blue\", colorant\"red\"]\n",
    "draw(PNG(\"plots/beliefprop.png\", 50cm, 50cm),\n",
    "     gplot(H, lx, ly, nodelabel=labels, nodelabelsize=sizes, nodefillc=colors[members]))\n"
   ]
  },
  {
   "cell_type": "code",
   "execution_count": 11,
   "metadata": {},
   "outputs": [
    {
     "name": "stderr",
     "output_type": "stream",
     "text": [
      "WARNING: Method definition count() in module IterTools at deprecated.jl:56 overwritten in module Iterators at deprecated.jl:56.\n",
      "WARNING: Method definition count(Number) in module IterTools at deprecated.jl:56 overwritten in module Iterators at deprecated.jl:56.\n",
      "WARNING: Method definition count(Number, Number) in module IterTools at deprecated.jl:56 overwritten in module Iterators at deprecated.jl:56.\n",
      "WARNING: using Iterators.count in module Main conflicts with an existing identifier.\n"
     ]
    },
    {
     "data": {
      "text/plain": [
       "Psis (generic function with 1 method)"
      ]
     },
     "execution_count": 11,
     "metadata": {},
     "output_type": "execute_result"
    }
   ],
   "source": [
    "using Iterators\n",
    "\n",
    "function normalize_neighbors!(m, g::Graph, X::AbstractArray, i::Integer)\n",
    "    Z = sum(m[i,neighbors(g,i), :])\n",
    "    #@show i, Z\n",
    "    for j in neighbors(g,i)\n",
    "        for k in X\n",
    "            m[i,j,k] /= Z\n",
    "        end\n",
    "    end\n",
    "    return Z\n",
    "end\n",
    "\n",
    "function assert_nonzero(val)\n",
    "    @assert val != 0 \"val was zero\"\n",
    "    return val\n",
    "end\n",
    "\n",
    "function propogate!{T<:Real, U<:Integer}(m::AbstractArray{T,3},\n",
    "                                         ϕ::AbstractArray{T,2},\n",
    "                                         ψ::AbstractArray{T,2}, A, X::AbstractArray{U, 1})\n",
    "    n = size(A, 1)\n",
    "    for i in 1:n\n",
    "        for j in neighbors(A,i)\n",
    "            if j == i\n",
    "                continue\n",
    "            end\n",
    "            for k in X\n",
    "                m[i,j,k] = 0\n",
    "                for l in X\n",
    "                    w = ϕ[i,l] * ψ[l,k]\n",
    "                    @assert w != NaN\n",
    "                    sp = sum([p!=j ? log(assert_nonzero(m[p,i,l])) : 0 for p in neighbors(A, i)])\n",
    "                    p = exp(sp) + 1e-16\n",
    "                    if p == 0\n",
    "                        warn(\"sp is $sp\")\n",
    "                        warn(\"p is 0! $i,$j,$k,$l\")\n",
    "                    end\n",
    "                    @assert p != NaN\n",
    "                    @assert m[j,i,l] != 0 \"$i,$j,$l have m 0\"\n",
    "                    m[i,j,k] += w * p #/ m[j,i,l]\n",
    "                end\n",
    "            end\n",
    "        end\n",
    "        Z = normalize_neighbors!(m, A, X, i)\n",
    "    end\n",
    "    return m\n",
    "end\n",
    "\n",
    "function beliefs!{T<:Real}(m::AbstractArray{T}, b, ϕ, A, X)\n",
    "    for i in 1:size(A,1)\n",
    "        for k in X\n",
    "            w = prod(T[m[p,i,k] for p in neighbors(A, i)])\n",
    "            b[i,k] = ϕ[i,k] * w\n",
    "            @assert b[i,k] >= 0 \"Unnormalized beliefs are not all positive offending indices ($i, $k)=$(b[i,k])\"\n",
    "        end\n",
    "        b[i,:] /= sum(b[i,:])\n",
    "    end\n",
    "    #@show b\n",
    "    @assert all( 0.99 .< sum(b,2) .< 1.01) \"Beliefs do not form a probability distributions\"\n",
    "    return b\n",
    "end\n",
    "\n",
    "type BeliefProblem{T<:Real, U<:Integer, G}\n",
    "    m::AbstractArray{T,3}\n",
    "    ϕ::AbstractArray{T,2}\n",
    "    ψ::AbstractArray{T,2}\n",
    "    A::G\n",
    "    X::AbstractArray{U, 1}\n",
    "end\n",
    "\n",
    "type Messages{T<:Real, G} <: AbstractArray{T, 3}\n",
    "    nrows::Int\n",
    "    ncols::Int\n",
    "    edges::Dict{Tuple{Int, Int}, Int}\n",
    "    states::UnitRange\n",
    "    storage::Array{T, 2}\n",
    "end\n",
    "\n",
    "function Messages(g::Graph, states::UnitRange)\n",
    "    n=nv(g)\n",
    "    d = Dict{Tuple{Int,Int}, Int}()\n",
    "    i = 1\n",
    "    for e in edges(g)\n",
    "        d[(src(e), dst(e))] = i\n",
    "        d[(dst(e), src(e))] = i+1\n",
    "        i += 2\n",
    "    end\n",
    "    storage = ones(Float64, (i, length(states)))\n",
    "    return Messages{Float64, Graph}(n,n,d, states, storage)\n",
    "end\n",
    "\n",
    "Base.size(m::Messages) = (m.nrows, m.ncols, length(m.states))\n",
    "function Base.getindex(m::Messages, I::Vararg{Int})\n",
    "    pair = I[1:2]\n",
    "    if pair in keys(m.edges)\n",
    "        return m.storage[m.edges[pair], I[3]]\n",
    "    else\n",
    "        throw(KeyError(pair))\n",
    "    end\n",
    "end\n",
    "\n",
    "function Base.setindex!(m::Messages, v, I::Vararg{Int})\n",
    "    pair = I[1:2]\n",
    "    if pair in keys(m.edges)\n",
    "        return m.storage[m.edges[pair], I[3]] = v\n",
    "    else\n",
    "        throw(KeyError(pair))\n",
    "    end\n",
    "end\n",
    "\n",
    "logodds(b::AbstractMatrix) = log.(b[:,1]./b[:,2])\n",
    "\n",
    "function beliefprop(g::Graph, ϕ, ψ, maxiter)\n",
    "    n = size(g, 1)\n",
    "    k = 2\n",
    "    m = ones(Float64, (n,n,k))\n",
    "    m = Messages(g, 1:k)\n",
    "    #@show sort(collect(keys(m.edges)))\n",
    "    pr = BeliefProblem(m, ϕ, ψ, g, 1:k)\n",
    "    iterstates = []\n",
    "    diffs = []\n",
    "    i = 1\n",
    "    m = nth(iterate(m->begin msg = propogate!(m, ϕ,ψ, g, 1:k);\n",
    "            state = [maximum(msg.storage), minimum(msg.storage)]\n",
    "            diff = i > 1 ? state-iterstates[i-1]:0;\n",
    "            i+=1\n",
    "            @show diff\n",
    "            push!(iterstates, state)\n",
    "            push!(diffs, diff)\n",
    "            #msg.storage = max(msg.storage, 1e-60)\n",
    "           return msg \n",
    "        end, m), maxiter)\n",
    "    b = similar(pr.ϕ)\n",
    "    beliefs!(pr.m, b, pr.ϕ, g, 1:k)\n",
    "    lodds = logodds(b)\n",
    "    #display(plotbeliefs(g, b[:,1]))\n",
    "    display(bar(lodds, ylabel=\"Log Odds\", xlabel=\"Vertex ID\"))\n",
    "    return pr, b, lodds\n",
    "end\n",
    "\n",
    "function plotbeliefs(g::Graph, b::AbstractVector)\n",
    "    nodefillc=map(x-> RGB(1x, 0, 1-x), b./maximum(b))\n",
    "    plo = gplot(H, lx, ly, nodelabel=[si2s[v] for v in 1:nv(g)], nodelabelsize=sizes, nodefillc=nodefillc)\n",
    "    draw(PNG(\"plots/postbeliefprop.png\", 50cm, 50cm), plo)\n",
    "    return plo\n",
    "    #return gplot(g, layout=(g)-> spring_layout(g; C=1), nodelabel=1:nv(g), nodelabelsize=1, nodefillc=nodefillc)\n",
    "    #return gplot(g, layout=(g)-> begin pos = (200*begin Z=spring_layout(g); Z[1]end, log2(float(collect(1:nv(g))))); @show typeof(pos); return pos end, nodelabel=1:nv(g), nodelabelsize=1, nodefillc=nodefillc)\n",
    "    #return gplot(g, layout=(g)-> (exp10(spectral_layout(g)[1]), log(float(vertices(g)))),nodelabel=1:nv(g), nodelabelsize=1, nodefillc=nodefillc)\n",
    "end\n",
    "\n",
    "function Psis(ϵ::Real)\n",
    "    return [1-ϵ ϵ;\n",
    "            ϵ 1-ϵ]\n",
    "end"
   ]
  },
  {
   "cell_type": "code",
   "execution_count": 12,
   "metadata": {
    "scrolled": true
   },
   "outputs": [
    {
     "name": "stdout",
     "output_type": "stream",
     "text": [
      "8205\n",
      "1\n"
     ]
    }
   ],
   "source": [
    "ϕ = ones((c,2))./2.0\n",
    "for v in 1:c\n",
    "    r = reality(si2s[v])\n",
    "    if r == 3\n",
    "        ϕ[v,:] = [0.99999, 0.01]\n",
    "    elseif r == 2\n",
    "        ϕ[v,:] = [0.1, 0.9]\n",
    "    elseif r == 1\n",
    "        ϕ[v,:] = [0.5, 0.5]\n",
    "    end\n",
    "end\n",
    "println(nv(H))\n",
    "println(minimum([length(all_neighbors(H, v)) for v in 1:c]))"
   ]
  },
  {
   "cell_type": "code",
   "execution_count": 13,
   "metadata": {},
   "outputs": [
    {
     "name": "stdout",
     "output_type": "stream",
     "text": [
      "diff = 0\n",
      "diff = [0.0, 2.26e-17]\n",
      "diff = [0.0, 7.39557e-32]\n",
      "diff = [0.0, 1.84889e-32]\n",
      "diff = [0.0, -1.2326e-32]\n",
      "diff = [0.0, 1.2326e-32]\n",
      "diff = [0.0, 0.0]\n",
      "diff = [0.0, -1.2326e-32]\n",
      "diff = [0.0, 1.2326e-32]\n",
      "diff = [0.0, 0.0]\n"
     ]
    },
    {
     "ename": "LoadError",
     "evalue": "\u001b[91mAssertionError: Beliefs do not form a probability distributions\u001b[39m",
     "output_type": "error",
     "traceback": [
      "\u001b[91mAssertionError: Beliefs do not form a probability distributions\u001b[39m",
      "",
      "Stacktrace:",
      " [1] \u001b[1mbeliefs!\u001b[22m\u001b[22m\u001b[1m(\u001b[22m\u001b[22m::Messages{Float64,LightGraphs.SimpleGraphs.SimpleGraph}, ::Array{Float64,2}, ::Array{Float64,2}, ::LightGraphs.SimpleGraphs.SimpleGraph{Int64}, ::UnitRange{Int64}\u001b[1m)\u001b[22m\u001b[22m at \u001b[1m./In[11]:60\u001b[22m\u001b[22m",
      " [2] \u001b[1mbeliefprop\u001b[22m\u001b[22m\u001b[1m(\u001b[22m\u001b[22m::LightGraphs.SimpleGraphs.SimpleGraph{Int64}, ::Array{Float64,2}, ::Array{Float64,2}, ::Int64\u001b[1m)\u001b[22m\u001b[22m at \u001b[1m./In[11]:135\u001b[22m\u001b[22m"
     ]
    }
   ],
   "source": [
    "pr, b, lodds = beliefprop(H, ϕ, Psis(0.44), 10);"
   ]
  },
  {
   "cell_type": "code",
   "execution_count": null,
   "metadata": {
    "collapsed": true
   },
   "outputs": [],
   "source": []
  },
  {
   "cell_type": "code",
   "execution_count": 9,
   "metadata": {
    "scrolled": false
   },
   "outputs": [
    {
     "name": "stdout",
     "output_type": "stream",
     "text": [
      "[8205, 384, 69, 60, 34, 33, 33, 30, 29, 28, 27, 26, 26, 26, 25, 25, 24, 24, 24, 23, 22, 20, 19, 19, 19, 19, 18, 17, 17, 17, 17, 16, 16, 16, 16, 15, 15, 15, 15, 14, 14, 14, 14, 14, 14, 14, 13, 12, 12, 12]"
     ]
    },
    {
     "name": "stderr",
     "output_type": "stream",
     "text": [
      "\n",
      "(process:27545): Pango-WARNING **: pango_layout_set_markup_with_accel: Error on line 1 char 31: Odd character '%', expected a '=' after attribute name 'search.scoop.co.nz' of element '%'\n",
      "Progress: 100%|█████████████████████████████████████████| Time: 0:04:06\n"
     ]
    }
   ],
   "source": [
    "sgs = connected_components(G)\n",
    "sort!(sgs, by=size, rev=true)\n",
    "print([size(sg, 1) for sg in sgs[1:50]])\n",
    "H = Graph(2)\n",
    "r = 5\n",
    "p = Progress(r, 1)\n",
    "plots = []\n",
    "k = 1\n",
    "for sg in sgs[1:r]\n",
    "    #Subgraph String-To-Int, Int-To-String\n",
    "    ss2i = Dict{String, Int}()\n",
    "    si2s = Dict{Int, String}()\n",
    "    c = 0\n",
    "    for i in sg\n",
    "        c += 1\n",
    "        ss2i[i2s[i]] = c\n",
    "        si2s[c] = i2s[i]\n",
    "    end\n",
    "    H = Graph(size(sg, 1))\n",
    "    for j in 1:c\n",
    "        src = si2s[j]\n",
    "        if src in keys(cats[\"a\"])\n",
    "            for dst in keys(cats[\"a\"][src])\n",
    "                if cats[\"a\"][src][dst] > minsamp && ~(dst in blacklist)\n",
    "                    add_edge!(H, j, ss2i[dst])\n",
    "                end\n",
    "            end\n",
    "        end\n",
    "    end\n",
    "    sizes = [log(length(all_neighbors(H, v))) for v in 1:c]\n",
    "    labels = [si2s[v] for v in 1:c]\n",
    "    members = [reality(si2s[v]) for v in 1:c]\n",
    "    colors = [colorant\"grey\", colorant\"blue\", colorant\"red\"]\n",
    "    draw(PNG(\"plots/plot\"*string(k)*\".png\", 50cm, 50cm), gplot(H, nodelabel=labels, nodelabelsize=sizes, nodefillc=colors[members]))\n",
    "    k += 1\n",
    "    next!(p)\n",
    "end\n"
   ]
  }
 ],
 "metadata": {
  "kernelspec": {
   "display_name": "Julia 0.6.0",
   "language": "julia",
   "name": "julia-0.6"
  },
  "language_info": {
   "file_extension": ".jl",
   "mimetype": "application/julia",
   "name": "julia",
   "version": "0.6.0"
  }
 },
 "nbformat": 4,
 "nbformat_minor": 2
}
